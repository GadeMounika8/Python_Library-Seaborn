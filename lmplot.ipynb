{
 "cells": [
  {
   "cell_type": "markdown",
   "id": "e7061cbd",
   "metadata": {},
   "source": [
    "# lmplot:"
   ]
  },
  {
   "cell_type": "markdown",
   "id": "808a754a",
   "metadata": {},
   "source": [
    "--> lmplot stands for linear model plot."
   ]
  },
  {
   "cell_type": "code",
   "execution_count": 1,
   "id": "b78a8174",
   "metadata": {},
   "outputs": [],
   "source": [
    "# import all required Libraries\n",
    "import numpy as np\n",
    "import pandas as pd\n",
    "import matplotlib as plt\n",
    "import seaborn as sns"
   ]
  },
  {
   "cell_type": "code",
   "execution_count": 2,
   "id": "81151324",
   "metadata": {},
   "outputs": [],
   "source": [
    "# load the dataset\n",
    "df18 = sns.load_dataset(\"tips\").dropna()"
   ]
  },
  {
   "cell_type": "code",
   "execution_count": 3,
   "id": "1e1df2b0",
   "metadata": {},
   "outputs": [
    {
     "data": {
      "text/html": [
       "<div>\n",
       "<style scoped>\n",
       "    .dataframe tbody tr th:only-of-type {\n",
       "        vertical-align: middle;\n",
       "    }\n",
       "\n",
       "    .dataframe tbody tr th {\n",
       "        vertical-align: top;\n",
       "    }\n",
       "\n",
       "    .dataframe thead th {\n",
       "        text-align: right;\n",
       "    }\n",
       "</style>\n",
       "<table border=\"1\" class=\"dataframe\">\n",
       "  <thead>\n",
       "    <tr style=\"text-align: right;\">\n",
       "      <th></th>\n",
       "      <th>total_bill</th>\n",
       "      <th>tip</th>\n",
       "      <th>sex</th>\n",
       "      <th>smoker</th>\n",
       "      <th>day</th>\n",
       "      <th>time</th>\n",
       "      <th>size</th>\n",
       "    </tr>\n",
       "  </thead>\n",
       "  <tbody>\n",
       "    <tr>\n",
       "      <th>0</th>\n",
       "      <td>16.99</td>\n",
       "      <td>1.01</td>\n",
       "      <td>Female</td>\n",
       "      <td>No</td>\n",
       "      <td>Sun</td>\n",
       "      <td>Dinner</td>\n",
       "      <td>2</td>\n",
       "    </tr>\n",
       "    <tr>\n",
       "      <th>1</th>\n",
       "      <td>10.34</td>\n",
       "      <td>1.66</td>\n",
       "      <td>Male</td>\n",
       "      <td>No</td>\n",
       "      <td>Sun</td>\n",
       "      <td>Dinner</td>\n",
       "      <td>3</td>\n",
       "    </tr>\n",
       "    <tr>\n",
       "      <th>2</th>\n",
       "      <td>21.01</td>\n",
       "      <td>3.50</td>\n",
       "      <td>Male</td>\n",
       "      <td>No</td>\n",
       "      <td>Sun</td>\n",
       "      <td>Dinner</td>\n",
       "      <td>3</td>\n",
       "    </tr>\n",
       "    <tr>\n",
       "      <th>3</th>\n",
       "      <td>23.68</td>\n",
       "      <td>3.31</td>\n",
       "      <td>Male</td>\n",
       "      <td>No</td>\n",
       "      <td>Sun</td>\n",
       "      <td>Dinner</td>\n",
       "      <td>2</td>\n",
       "    </tr>\n",
       "    <tr>\n",
       "      <th>4</th>\n",
       "      <td>24.59</td>\n",
       "      <td>3.61</td>\n",
       "      <td>Female</td>\n",
       "      <td>No</td>\n",
       "      <td>Sun</td>\n",
       "      <td>Dinner</td>\n",
       "      <td>4</td>\n",
       "    </tr>\n",
       "    <tr>\n",
       "      <th>...</th>\n",
       "      <td>...</td>\n",
       "      <td>...</td>\n",
       "      <td>...</td>\n",
       "      <td>...</td>\n",
       "      <td>...</td>\n",
       "      <td>...</td>\n",
       "      <td>...</td>\n",
       "    </tr>\n",
       "    <tr>\n",
       "      <th>239</th>\n",
       "      <td>29.03</td>\n",
       "      <td>5.92</td>\n",
       "      <td>Male</td>\n",
       "      <td>No</td>\n",
       "      <td>Sat</td>\n",
       "      <td>Dinner</td>\n",
       "      <td>3</td>\n",
       "    </tr>\n",
       "    <tr>\n",
       "      <th>240</th>\n",
       "      <td>27.18</td>\n",
       "      <td>2.00</td>\n",
       "      <td>Female</td>\n",
       "      <td>Yes</td>\n",
       "      <td>Sat</td>\n",
       "      <td>Dinner</td>\n",
       "      <td>2</td>\n",
       "    </tr>\n",
       "    <tr>\n",
       "      <th>241</th>\n",
       "      <td>22.67</td>\n",
       "      <td>2.00</td>\n",
       "      <td>Male</td>\n",
       "      <td>Yes</td>\n",
       "      <td>Sat</td>\n",
       "      <td>Dinner</td>\n",
       "      <td>2</td>\n",
       "    </tr>\n",
       "    <tr>\n",
       "      <th>242</th>\n",
       "      <td>17.82</td>\n",
       "      <td>1.75</td>\n",
       "      <td>Male</td>\n",
       "      <td>No</td>\n",
       "      <td>Sat</td>\n",
       "      <td>Dinner</td>\n",
       "      <td>2</td>\n",
       "    </tr>\n",
       "    <tr>\n",
       "      <th>243</th>\n",
       "      <td>18.78</td>\n",
       "      <td>3.00</td>\n",
       "      <td>Female</td>\n",
       "      <td>No</td>\n",
       "      <td>Thur</td>\n",
       "      <td>Dinner</td>\n",
       "      <td>2</td>\n",
       "    </tr>\n",
       "  </tbody>\n",
       "</table>\n",
       "<p>244 rows × 7 columns</p>\n",
       "</div>"
      ],
      "text/plain": [
       "     total_bill   tip     sex smoker   day    time  size\n",
       "0         16.99  1.01  Female     No   Sun  Dinner     2\n",
       "1         10.34  1.66    Male     No   Sun  Dinner     3\n",
       "2         21.01  3.50    Male     No   Sun  Dinner     3\n",
       "3         23.68  3.31    Male     No   Sun  Dinner     2\n",
       "4         24.59  3.61  Female     No   Sun  Dinner     4\n",
       "..          ...   ...     ...    ...   ...     ...   ...\n",
       "239       29.03  5.92    Male     No   Sat  Dinner     3\n",
       "240       27.18  2.00  Female    Yes   Sat  Dinner     2\n",
       "241       22.67  2.00    Male    Yes   Sat  Dinner     2\n",
       "242       17.82  1.75    Male     No   Sat  Dinner     2\n",
       "243       18.78  3.00  Female     No  Thur  Dinner     2\n",
       "\n",
       "[244 rows x 7 columns]"
      ]
     },
     "execution_count": 3,
     "metadata": {},
     "output_type": "execute_result"
    }
   ],
   "source": [
    "df18"
   ]
  },
  {
   "cell_type": "code",
   "execution_count": 4,
   "id": "3710f390",
   "metadata": {},
   "outputs": [],
   "source": [
    "sns.set_style('white')"
   ]
  },
  {
   "cell_type": "code",
   "execution_count": 5,
   "id": "d1870e6e",
   "metadata": {},
   "outputs": [
    {
     "data": {
      "image/png": "[encoded data removed]",
      "text/plain": [
       "<Figure size 500x500 with 1 Axes>"
      ]
     },
     "metadata": {},
     "output_type": "display_data"
    }
   ],
   "source": [
    "sns.lmplot(x = 'size', y = 'total_bill', data = df18);"
   ]
  },
  {
   "cell_type": "code",
   "execution_count": 6,
   "id": "4e709109",
   "metadata": {},
   "outputs": [],
   "source": [
    "sns.lmplot(x = 'size', y = 'total_bill', data = df18, hue = 'day');"
   ]
  },
  {
   "cell_type": "code",
   "execution_count": 7,
   "id": "4e8d12e6",
   "metadata": {},
   "outputs": [],
   "source": [
    "sns.lmplot(x = 'size', y = 'total_bill', data = df18, hue = 'day', markers = ['s', 'D', 'o', 'x']);"
   ]
  },
  {
   "cell_type": "code",
   "execution_count": 33,
   "id": "3cd6be46",
   "metadata": {},
   "outputs": [],
   "source": [
    "sns.lmplot(x = 'size', y = 'total_bill', data = df18, hue = 'day', col = 'day');"
   ]
  },
  {
   "cell_type": "code",
   "execution_count": 34,
   "id": "977c48d0",
   "metadata": {},
   "outputs": [],
   "source": [
    "sns.lmplot(x = 'size', y = 'total_bill', data = df18, hue = 'day', col = 'day', row = 'smoker');"
   ]
  },
  {
   "cell_type": "code",
   "execution_count": null,
   "id": "e374f053",
   "metadata": {},
   "outputs": [],
   "source": [
    "sns.lmplot(x = 'size', y = 'total_bill', data = df18, hue = 'day', col = 'day', row = 'smoker', truncate = False);"
   ]
  },
  {
   "cell_type": "code",
   "execution_count": 35,
   "id": "bd6ff7fc",
   "metadata": {},
   "outputs": [],
   "source": [
    "sns.lmplot(x = 'size', y = 'total_bill', data = df18, x_bins = 9);"
   ]
  },
  {
   "cell_type": "code",
   "execution_count": 36,
   "id": "afbcacbe",
   "metadata": {},
   "outputs": [],
   "source": [
    "sns.lmplot(x = 'size', y = 'total_bill', data = df18, hue = 'day', col = 'day',scatter_kws = {'s':100, 'edgecolor':'gray'});"
   ]
  },
  {
   "cell_type": "code",
   "execution_count": 45,
   "id": "f557db3a",
   "metadata": {},
   "outputs": [],
   "source": [
    "sns.lmplot(x = 'size', y = 'total_bill', data = df18, hue = 'day', col = 'day', line_kws = {'lw':2, 'ls':'--', 'color':'black'});"
   ]
  },
  {
   "cell_type": "code",
   "execution_count": 47,
   "id": "1eda17c6",
   "metadata": {},
   "outputs": [],
   "source": [
    "f = sns.lmplot(x = 'size', y = 'total_bill', data = df18, hue = 'day', col = 'day');"
   ]
  },
  {
   "cell_type": "code",
   "execution_count": 48,
   "id": "e5815102",
   "metadata": {},
   "outputs": [
    {
     "data": {
      "text/plain": [
       "seaborn.axisgrid.FacetGrid"
      ]
     },
     "execution_count": 48,
     "metadata": {},
     "output_type": "execute_result"
    }
   ],
   "source": [
    "type(f)"
   ]
  },
  {
   "cell_type": "code",
   "execution_count": 50,
   "id": "cd1d4b9e",
   "metadata": {},
   "outputs": [
    {
     "name": "stderr",
     "output_type": "stream",
     "text": [
      "C:\\anaconda\\lib\\site-packages\\seaborn\\axisgrid.py:409: RuntimeWarning: More than 20 figures have been opened. Figures created through the pyplot interface (`matplotlib.pyplot.figure`) are retained until explicitly closed and may consume too much memory. (To control this warning, see the rcParam `figure.max_open_warning`).\n",
      "  fig = plt.figure(figsize=figsize)\n"
     ]
    }
   ],
   "source": [
    "f = sns.lmplot(x = 'size', y = 'total_bill', data = df18, hue = 'day', col = 'day')\n",
    "f.set_titles(col_template = '{col_name} bill')\n",
    "f.set_xlabels('Size')\n",
    "f.set_ylabels('Total Bill');"
   ]
  },
  {
   "cell_type": "code",
   "execution_count": null,
   "id": "72a8149a",
   "metadata": {},
   "outputs": [],
   "source": []
  }
 ],
 "metadata": {
  "kernelspec": {
   "display_name": "Python 3 (ipykernel)",
   "language": "python",
   "name": "python3"
  },
  "language_info": {
   "codemirror_mode": {
    "name": "ipython",
    "version": 3
   },
   "file_extension": ".py",
   "mimetype": "text/x-python",
   "name": "python",
   "nbconvert_exporter": "python",
   "pygments_lexer": "ipython3",
   "version": "3.9.13"
  }
 },
 "nbformat": 4,
 "nbformat_minor": 5
}
